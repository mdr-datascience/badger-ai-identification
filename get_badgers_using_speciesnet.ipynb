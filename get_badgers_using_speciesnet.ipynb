{
 "cells": [
  {
   "cell_type": "markdown",
   "id": "b317897d",
   "metadata": {},
   "source": [
    "# From Raw Video to Cropped Images of Badgers (using SpeciesNet)\n",
    "This file takes the path for a raw video and creates both:\n",
    "- a folder with the extracted frames (images) from the video (1 frame / second)\n",
    "- a folder with the cropped images of badgers (using SpeciesNet to detect badgers in the original frames and then cropping using SpeciesNet bounding boxes)."
   ]
  },
  {
   "cell_type": "markdown",
   "id": "3e2e4269",
   "metadata": {},
   "source": [
    "## Input path to video file"
   ]
  },
  {
   "cell_type": "code",
   "execution_count": 4,
   "id": "c2eac6f1",
   "metadata": {},
   "outputs": [],
   "source": [
    "# Directory of input images\n",
    "INPUT_VID = r\"C:\\\\Users\\\\md82\\\\OneDrive - Anglia Ruskin University\\\\Documents\\\\Python_code\\\\Badger-Cropping-Pipeline\\\\IMG_0011.AVI\"  \n",
    "\n",
    "# Names of output directories\n",
    "extracted_frames_dir = \"video_frames\"\n",
    "cropped_images_dir = \"cropped_frames\""
   ]
  },
  {
   "cell_type": "code",
   "execution_count": 5,
   "id": "451277d5",
   "metadata": {},
   "outputs": [],
   "source": [
    "import os\n",
    "\n",
    "def create_output_dirs(file_path, new_folder_name):\n",
    "    # Get the directory containing the file\n",
    "    parent_dir = os.path.dirname(file_path)\n",
    "\n",
    "    # Create the full path for the new folder\n",
    "    new_folder_path = os.path.join(parent_dir, new_folder_name)\n",
    "\n",
    "    # Create the folder if it doesn't exist\n",
    "    os.makedirs(new_folder_path, exist_ok=True)"
   ]
  },
  {
   "cell_type": "markdown",
   "id": "9751ca2b",
   "metadata": {},
   "source": [
    "## Create output directories"
   ]
  },
  {
   "cell_type": "code",
   "execution_count": 6,
   "id": "09dabd08",
   "metadata": {},
   "outputs": [],
   "source": [
    "create_output_dirs(INPUT_VID, extracted_frames_dir)\n",
    "create_output_dirs(INPUT_VID, cropped_images_dir)"
   ]
  },
  {
   "cell_type": "markdown",
   "id": "cdc87117",
   "metadata": {},
   "source": [
    "## Extract frames from video"
   ]
  },
  {
   "cell_type": "code",
   "execution_count": 7,
   "id": "e7074b85",
   "metadata": {},
   "outputs": [
    {
     "name": "stderr",
     "output_type": "stream",
     "text": [
      "c:\\Users\\md82\\AppData\\Local\\anaconda3\\envs\\speciesnet\\Lib\\site-packages\\tqdm\\auto.py:21: TqdmWarning: IProgress not found. Please update jupyter and ipywidgets. See https://ipywidgets.readthedocs.io/en/stable/user_install.html\n",
      "  from .autonotebook import tqdm as notebook_tqdm\n"
     ]
    }
   ],
   "source": [
    "import os\n",
    "import glob\n",
    "from PIL import Image\n",
    "from speciesnet.detector import SpeciesNetDetector\n",
    "from Badger_detection import extract_frames\n",
    "from tqdm import tqdm"
   ]
  },
  {
   "cell_type": "code",
   "execution_count": 8,
   "id": "1111253a",
   "metadata": {},
   "outputs": [
    {
     "name": "stdout",
     "output_type": "stream",
     "text": [
      "Step 1: Extracting frames...\n",
      "Video properties: Total Frames=484, FPS=24.00, IntervalSec=1, Stride=24, Expected Saved Frames=21\n",
      "No existing frames found in video_frames. Proceeding with extraction.\n",
      "Extracted 21 frames from C:\\\\Users\\\\md82\\\\OneDrive - Anglia Ruskin University\\\\Documents\\\\Python_code\\\\Badger-Cropping-Pipeline\\\\IMG_0011.AVI to video_frames\n"
     ]
    },
    {
     "data": {
      "text/plain": [
       "(['video_frames\\\\frame_000000.jpg',\n",
       "  'video_frames\\\\frame_000001.jpg',\n",
       "  'video_frames\\\\frame_000002.jpg',\n",
       "  'video_frames\\\\frame_000003.jpg',\n",
       "  'video_frames\\\\frame_000004.jpg',\n",
       "  'video_frames\\\\frame_000005.jpg',\n",
       "  'video_frames\\\\frame_000006.jpg',\n",
       "  'video_frames\\\\frame_000007.jpg',\n",
       "  'video_frames\\\\frame_000008.jpg',\n",
       "  'video_frames\\\\frame_000009.jpg',\n",
       "  'video_frames\\\\frame_000010.jpg',\n",
       "  'video_frames\\\\frame_000011.jpg',\n",
       "  'video_frames\\\\frame_000012.jpg',\n",
       "  'video_frames\\\\frame_000013.jpg',\n",
       "  'video_frames\\\\frame_000014.jpg',\n",
       "  'video_frames\\\\frame_000015.jpg',\n",
       "  'video_frames\\\\frame_000016.jpg',\n",
       "  'video_frames\\\\frame_000017.jpg',\n",
       "  'video_frames\\\\frame_000018.jpg',\n",
       "  'video_frames\\\\frame_000019.jpg',\n",
       "  'video_frames\\\\frame_000020.jpg'],\n",
       " 24.0003840061441)"
      ]
     },
     "execution_count": 8,
     "metadata": {},
     "output_type": "execute_result"
    }
   ],
   "source": [
    "print(\"Step 1: Extracting frames...\")\n",
    "extract_frames(INPUT_VID, extracted_frames_dir, interval_seconds=1)"
   ]
  },
  {
   "cell_type": "markdown",
   "id": "9c7063c3",
   "metadata": {},
   "source": [
    "## Detect badgers using SpeciesNet"
   ]
  },
  {
   "cell_type": "code",
   "execution_count": 9,
   "id": "6b513f2e",
   "metadata": {},
   "outputs": [
    {
     "name": "stdout",
     "output_type": "stream",
     "text": [
      "Found 21 images in video_frames\n",
      "Loading SpeciesNet Detector...\n",
      "Warning: Looks like you're using an outdated `kagglehub` version (installed: 0.3.12), please consider upgrading to the latest version (0.3.13).\n",
      "✓ SpeciesNet Detector loaded.\n"
     ]
    },
    {
     "name": "stderr",
     "output_type": "stream",
     "text": [
      "Processing images: 100%|██████████| 21/21 [00:50<00:00,  2.43s/it]"
     ]
    },
    {
     "name": "stdout",
     "output_type": "stream",
     "text": [
      "Done! Saved 13 cropped badger images to cropped_frames\n"
     ]
    },
    {
     "name": "stderr",
     "output_type": "stream",
     "text": [
      "\n"
     ]
    }
   ],
   "source": [
    "# Name of video file\n",
    "input_vid_name = os.path.basename(os.path.normpath(INPUT_VID))\n",
    "\n",
    "# Threshold for SpeciesNet confidence\n",
    "confidence_threshold = 0.6\n",
    "\n",
    "# Get all image files in extracted frames folder\n",
    "image_files = sorted(glob.glob(os.path.join(extracted_frames_dir, '*.jpg')) +\n",
    "                    glob.glob(os.path.join(extracted_frames_dir, '*.jpeg')) +\n",
    "                    glob.glob(os.path.join(extracted_frames_dir, '*.png')))\n",
    "print(f\"Found {len(image_files)} images in {extracted_frames_dir}\")\n",
    "\n",
    "# Initialize SpeciesNetDetector\n",
    "print(\"Loading SpeciesNet Detector...\")\n",
    "detector = SpeciesNetDetector(\"kaggle:google/speciesnet/pyTorch/v4.0.1a\")\n",
    "print(\"✓ SpeciesNet Detector loaded.\")\n",
    "\n",
    "crop_count = 0\n",
    "for idx, img_path in enumerate(tqdm(image_files, desc=\"Processing images\")):\n",
    "    image = Image.open(img_path).convert('RGB')\n",
    "    preprocessed = detector.preprocess(image)\n",
    "    result = detector.predict(img_path, preprocessed)\n",
    "    detections = result.get('detections', [])\n",
    "    for det_idx, det in enumerate(detections):\n",
    "        label = det.get('label', '')\n",
    "        conf = det.get('conf', 0)\n",
    "        bbox = det.get('bbox', None)\n",
    "        label_lower = label.lower()\n",
    "        if ((\"meles\" in label_lower) or (\"badger\" in label_lower) or (\"animal\" in label_lower)) and conf >= confidence_threshold and bbox is not None:\n",
    "            # bbox is [x_min, y_min, width, height] in normalized coordinates\n",
    "            x_min, y_min, width, height = bbox\n",
    "            x0 = int(x_min * image.width)\n",
    "            y0 = int(y_min * image.height)\n",
    "            x1 = int((x_min + width) * image.width)\n",
    "            y1 = int((y_min + height) * image.height)\n",
    "            crop = image.crop((x0, y0, x1, y1))\n",
    "            crop_filename = f\"cropped_{input_vid_name}_frame{idx:06d}_det{det_idx}.jpg\"\n",
    "            crop_path = os.path.join(cropped_images_dir, crop_filename)\n",
    "            crop.save(crop_path)\n",
    "            crop_count += 1\n",
    "print(f\"Done! Saved {crop_count} cropped badger images to {cropped_images_dir}\")\n"
   ]
  }
 ],
 "metadata": {
  "kernelspec": {
   "display_name": "speciesnet",
   "language": "python",
   "name": "python3"
  },
  "language_info": {
   "codemirror_mode": {
    "name": "ipython",
    "version": 3
   },
   "file_extension": ".py",
   "mimetype": "text/x-python",
   "name": "python",
   "nbconvert_exporter": "python",
   "pygments_lexer": "ipython3",
   "version": "3.11.13"
  }
 },
 "nbformat": 4,
 "nbformat_minor": 5
}
